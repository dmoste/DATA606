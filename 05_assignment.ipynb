{
  "nbformat": 4,
  "nbformat_minor": 0,
  "metadata": {
    "colab": {
      "name": "05_assignment.ipynb",
      "provenance": [],
      "authorship_tag": "ABX9TyMhGX9jVr8D2tsj2Utf5dZl",
      "include_colab_link": true
    },
    "kernelspec": {
      "name": "python3",
      "display_name": "Python 3"
    }
  },
  "cells": [
    {
      "cell_type": "markdown",
      "metadata": {
        "id": "view-in-github",
        "colab_type": "text"
      },
      "source": [
        "<a href=\"https://colab.research.google.com/github/dmoste/DATA606/blob/master/05_assignment.ipynb\" target=\"_parent\"><img src=\"https://colab.research.google.com/assets/colab-badge.svg\" alt=\"Open In Colab\"/></a>"
      ]
    },
    {
      "cell_type": "markdown",
      "metadata": {
        "id": "nHBQd0mA-GAo"
      },
      "source": [
        "# Research Question\n",
        "For this project, I decided to look at open restaurant application data from NYC. This data represents businesses that would like to do outdoor dining in NYC during reopening in 2020.\n",
        "\n",
        "## Data Exploration"
      ]
    },
    {
      "cell_type": "code",
      "metadata": {
        "id": "I8Il2Xef9xPm"
      },
      "source": [
        "import pandas as pd\n",
        "\n",
        "data = pd.read_csv(\"https://data.cityofnewyork.us/api/views/pitm-atqc/rows.csv?accessType=DOWNLOAD\")\n",
        "\n",
        "len(data.index)\n",
        "\n",
        "approved_sw = data[data[\"Approved for Sidewalk Seating\"] == \"yes\"]\n",
        "approved_rw = data[data[\"Approved for Roadway Seating\"] == \"yes\"]\n",
        "\n",
        "approved_sw[\"Sidewalk Dimensions (Area)\"].quantile([0.25,0.5,0.75])\n",
        "approved_rw[\"Roadway Dimensions (Area)\"].quantile([0.25,0.5,0.75])\n",
        "\n",
        "approved_sw[\"Sidewalk Dimensions (Area)\"].mean()\n",
        "approved_rw[\"Roadway Dimensions (Area)\"].mean()\n",
        "\n",
        "approved_sw[\"Sidewalk Dimensions (Area)\"].median()\n",
        "approved_rw[\"Roadway Dimensions (Area)\"].median()"
      ],
      "execution_count": null,
      "outputs": []
    },
    {
      "cell_type": "markdown",
      "metadata": {
        "id": "WHhKeS1V-SFw"
      },
      "source": [
        "## Data Wrangling\n",
        "Do some data stuff"
      ]
    },
    {
      "cell_type": "code",
      "metadata": {
        "id": "KjjCjNWK-Y3N"
      },
      "source": [
        "data = data.drop(columns = [\"BIN\",\"BBL\"])"
      ],
      "execution_count": null,
      "outputs": []
    },
    {
      "cell_type": "markdown",
      "metadata": {
        "id": "bJGvwT7J-ZNn"
      },
      "source": [
        "## Data Visualizations"
      ]
    },
    {
      "cell_type": "code",
      "metadata": {
        "id": "r6LRQMnw-cqe"
      },
      "source": [
        ""
      ],
      "execution_count": null,
      "outputs": []
    },
    {
      "cell_type": "markdown",
      "metadata": {
        "id": "u9QjIHFl-c2l"
      },
      "source": [
        "## Conclusion"
      ]
    }
  ]
}